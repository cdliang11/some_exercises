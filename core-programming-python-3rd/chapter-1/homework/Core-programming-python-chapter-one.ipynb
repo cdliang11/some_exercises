{
 "cells": [
  {
   "cell_type": "markdown",
   "metadata": {},
   "source": [
    "# 第一章 正则表达式"
   ]
  },
  {
   "cell_type": "code",
   "execution_count": 2,
   "metadata": {},
   "outputs": [
    {
     "name": "stdout",
     "output_type": "stream",
     "text": [
      "hat\n"
     ]
    }
   ],
   "source": [
    "#1-1\n",
    "\n",
    "import re\n",
    "patt = r'^(bat|bit|but|hat|hit|hut)'\n",
    "m = re.match(patt, 'hat')\n",
    "if m is not None:\n",
    "    print(m.group())"
   ]
  },
  {
   "cell_type": "code",
   "execution_count": 3,
   "metadata": {},
   "outputs": [
    {
     "name": "stdout",
     "output_type": "stream",
     "text": [
      "Guido van\n"
     ]
    }
   ],
   "source": [
    "#1-2\n",
    "\n",
    "patt = r'\\w+\\s\\w+'\n",
    "m = re.match(patt, 'Guido van')\n",
    "if m is not None:\n",
    "    print(m.group())"
   ]
  },
  {
   "cell_type": "code",
   "execution_count": 4,
   "metadata": {},
   "outputs": [
    {
     "name": "stdout",
     "output_type": "stream",
     "text": [
      "Jack,Ma\n"
     ]
    }
   ],
   "source": [
    "# 1-3\n",
    "\n",
    "patt = r'\\w+[, ]\\w+'\n",
    "m = re.match(patt, 'Jack,Ma')\n",
    "if m is not None:\n",
    "    print(m.group())"
   ]
  },
  {
   "cell_type": "code",
   "execution_count": 5,
   "metadata": {},
   "outputs": [
    {
     "name": "stdout",
     "output_type": "stream",
     "text": [
      "data\n"
     ]
    }
   ],
   "source": [
    "#1-4\n",
    "patt = r'^[A-Za-z_]\\w+'\n",
    "m = re.match(patt, 'data')\n",
    "if m is not None:\n",
    "    print(m.group())"
   ]
  },
  {
   "cell_type": "code",
   "execution_count": 6,
   "metadata": {},
   "outputs": [
    {
     "name": "stdout",
     "output_type": "stream",
     "text": [
      "2222 kkk lkk kkkk kkk\n"
     ]
    }
   ],
   "source": [
    "#1-5\n",
    "\n",
    "patt = r'\\d+(\\s[A-Za-z]+)*'\n",
    "m = re.match(patt, '2222 kkk lkk kkkk kkk')\n",
    "if m is not None:\n",
    "    print(m.group())"
   ]
  },
  {
   "cell_type": "code",
   "execution_count": 7,
   "metadata": {},
   "outputs": [
    {
     "name": "stdout",
     "output_type": "stream",
     "text": [
      "https://www.foothill.edu\n"
     ]
    }
   ],
   "source": [
    "#1-6\n",
    "\n",
    "patt = r'(http|https)?://www\\.\\w+\\.(com|net|edu)'\n",
    "# data = 'http://www.yahoo.com'\n",
    "data = 'https://www.foothill.edu'\n",
    "m = re.match(patt, data)\n",
    "if m is not None:\n",
    "    print(m.group())"
   ]
  },
  {
   "cell_type": "code",
   "execution_count": 8,
   "metadata": {},
   "outputs": [
    {
     "name": "stdout",
     "output_type": "stream",
     "text": [
      "-11111\n"
     ]
    }
   ],
   "source": [
    "#1-7\n",
    "\n",
    "patt = r'-?\\d+'\n",
    "m = re.match(patt, '-11111')\n",
    "if m is not None:\n",
    "    print(m.group())"
   ]
  },
  {
   "cell_type": "code",
   "execution_count": 9,
   "metadata": {},
   "outputs": [
    {
     "name": "stdout",
     "output_type": "stream",
     "text": [
      "-222.222l\n"
     ]
    }
   ],
   "source": [
    "#1-8\n",
    "#python3 has merged int and long into int\n",
    "patt = r'[-+]?\\d+\\.\\d+[lL]'\n",
    "m = re.match(patt, '-222.222l')\n",
    "if m is not None:\n",
    "    print(m.group())"
   ]
  },
  {
   "cell_type": "code",
   "execution_count": 10,
   "metadata": {},
   "outputs": [
    {
     "name": "stdout",
     "output_type": "stream",
     "text": [
      "2000.0000\n"
     ]
    }
   ],
   "source": [
    "#1-9\n",
    "\n",
    "patt = r'-?\\d+(\\.\\d+)?'\n",
    "m = re.match(patt, '2000.0000')\n",
    "if m is not None:\n",
    "    print(m.group())"
   ]
  },
  {
   "cell_type": "code",
   "execution_count": 11,
   "metadata": {},
   "outputs": [],
   "source": [
    "#1-10\n",
    "\n",
    "patt = r'(-?\\d+(\\.\\d+)?[jJ])' or r'(-?\\d+(\\.\\d+)?)?[+-]?(-?\\d+(\\.\\d+)?[jJ])?'\n",
    "#data = '1--20j'\n",
    "data = '-20.0022.22j'\n",
    "#data = '-20'\n",
    "m = re.match(patt, data)\n",
    "if m is not None:\n",
    "    print(m.group())"
   ]
  },
  {
   "cell_type": "code",
   "execution_count": 12,
   "metadata": {},
   "outputs": [
    {
     "name": "stdout",
     "output_type": "stream",
     "text": [
      "1231311@qq.com\n"
     ]
    }
   ],
   "source": [
    "#1-11\n",
    "\n",
    "patt = r'\\w+(\\.\\w+)*@\\w+\\.(com|cn|net)$'\n",
    "data = '1231311@qq.com'\n",
    "#data = 'ddd.ddd@qq.com'\n",
    "m = re.match(patt, data)\n",
    "if m is not None:\n",
    "    print(m.group())"
   ]
  },
  {
   "cell_type": "code",
   "execution_count": 13,
   "metadata": {},
   "outputs": [
    {
     "name": "stdout",
     "output_type": "stream",
     "text": [
      "http://192.168.0.1\n"
     ]
    }
   ],
   "source": [
    "31-12\n",
    "\n",
    "patt = r'(https|http)?://(w{3}|\\w+)(\\.\\w+)+(\\.(com|net|edu|cn)$)?'\n",
    "#data = 'http://www.baidu.com'\n",
    "data = 'http://192.168.0.1'\n",
    "m = re.match(patt, data)\n",
    "if m is not None:\n",
    "    print(m.group())"
   ]
  },
  {
   "cell_type": "code",
   "execution_count": 14,
   "metadata": {},
   "outputs": [
    {
     "name": "stdout",
     "output_type": "stream",
     "text": [
      "int\n"
     ]
    }
   ],
   "source": [
    "#1-13\n",
    "\n",
    "def check(x):\n",
    "    typeStr = str(type(x))\n",
    "    # print(typeStr)\n",
    "    patt = r'^<class\\s\\'(\\w+(_\\w+)?)\\'>$'\n",
    "    m = re.match(patt, typeStr)\n",
    "    # print(m.group())\n",
    "    if m is not None:\n",
    "        return m.group(1)  # group() 使用（）来进行分组  group(0)是整个匹配\n",
    "\n",
    "result = check(1)\n",
    "print(result)"
   ]
  },
  {
   "cell_type": "code",
   "execution_count": 15,
   "metadata": {},
   "outputs": [
    {
     "name": "stdout",
     "output_type": "stream",
     "text": [
      "12\n"
     ]
    }
   ],
   "source": [
    "#1-14\n",
    "\n",
    "patt = r'^(0?([1-9]|1[0-2]))$'\n",
    "data = '12'\n",
    "m = re.match(patt, data)\n",
    "if m is not None:\n",
    "    print(m.group())"
   ]
  },
  {
   "cell_type": "code",
   "execution_count": 16,
   "metadata": {},
   "outputs": [
    {
     "name": "stdout",
     "output_type": "stream",
     "text": [
      "1111-1111-1111-1111\n",
      "1111111111111111\n"
     ]
    }
   ],
   "source": [
    "#1-15\n",
    "\n",
    "patt = r'([0-9]{4}-?[0-9]{6}-?[0-9]{5})|([0-9]{4}-?[0-9]{4}-?[0-9]{4}-?[0-9]{4})'\n",
    "#data = '1111-111111-11111'\n",
    "data = '1111-1111-1111-1111'\n",
    "m = re.match(patt, data)\n",
    "if m is not None:\n",
    "    print(m.group())\n",
    "    costnumber = ''.join(m.group().split('-'))\n",
    "    print(costnumber)"
   ]
  },
  {
   "cell_type": "code",
   "execution_count": 17,
   "metadata": {},
   "outputs": [
    {
     "name": "stdout",
     "output_type": "stream",
     "text": [
      "790916\n",
      "Sat Jan 10 11:41:56 1970::xgajlw@qiragizykvy.edu::790916-6-11\n",
      "300616\n",
      "Sun Jan  4 19:30:16 1970::cnsqlhr@owdzivx.org::300616-7-7\n",
      "185116\n",
      "Sat Jan  3 11:25:16 1970::wlkyvqw@ypglyxnt.org::185116-7-8\n",
      "349609\n",
      "Mon Jan  5 09:06:49 1970::gorbvd@tuodobsotle.com::349609-6-11\n",
      "439332\n",
      "Tue Jan  6 10:02:12 1970::dpejit@cqxhaq.edu::439332-6-6\n",
      "457184\n",
      "Tue Jan  6 14:59:44 1970::csarusw@xjdyvgixhr.net::457184-7-10\n",
      "373280\n",
      "Mon Jan  5 15:41:20 1970::znwqm@zqeeecltq.gov::373280-5-9\n",
      "506700\n",
      "Wed Jan  7 04:45:00 1970::rqpplrq@nqepvsklwfm.net::506700-7-11\n",
      "15717\n",
      "Thu Jan  1 12:21:57 1970::owet@onscojeaiuo.com::15717-4-11\n",
      "699915\n",
      "Fri Jan  9 10:25:15 1970::ribkdl@vjghgp.org::699915-6-6\n"
     ]
    }
   ],
   "source": [
    "#1-16\n",
    "from random import randrange, choice\n",
    "from string import ascii_lowercase as lc\n",
    "# from sys import maxsize\n",
    "from time import ctime\n",
    "\n",
    "tlds = ('com', 'edu', 'net', 'org', 'gov')\n",
    "# print(maxsize)\n",
    "# maxsize = maxsize/100000 \n",
    "# print(maxsize)\n",
    "def dataPush():\n",
    "    datas = []\n",
    "    for i in range(randrange(5, 11)):\n",
    "        dtint = randrange(1000000)\n",
    "        print(dtint)\n",
    "        dtstr = ctime(dtint)\n",
    "        llen = randrange(4, 8)\n",
    "        login = ''.join(choice(lc) for j in range(llen))\n",
    "        dlen = randrange(llen, 13)\n",
    "        dom = ''.join(choice(lc) for j in range(dlen))\n",
    "        data = '%s::%s@%s.%s::%d-%d-%d' %(dtstr, login, dom, choice(tlds), dtint, llen, dlen)\n",
    "        print(data)\n",
    "        datas.append(data)\n",
    "    return datas\n",
    "data = dataPush()\n",
    "\n",
    "\n",
    "with open('1_16.txt', 'w') as f:\n",
    "    for d in data:\n",
    "        f.writelines(d+'\\r')"
   ]
  },
  {
   "cell_type": "code",
   "execution_count": 18,
   "metadata": {},
   "outputs": [
    {
     "name": "stdout",
     "output_type": "stream",
     "text": [
      "2\n"
     ]
    }
   ],
   "source": [
    "#1-17\n",
    "\n",
    "patt = 'Sat'\n",
    "time = 0\n",
    "with open('1_16.txt', 'r') as f:\n",
    "    for data in f.readlines():\n",
    "        m = re.findall(patt, data)\n",
    "        time = time + len(m)\n",
    "\n",
    "print(time)"
   ]
  },
  {
   "cell_type": "code",
   "execution_count": 19,
   "metadata": {},
   "outputs": [],
   "source": [
    "# 1- 18\n",
    "\n",
    "m = True\n",
    "patt = r'([A-Za-z]{3}\\s[A-Za-z]{3}\\s+\\d+\\s\\d{2}:\\d{2}:\\d{2}\\s\\d+)::.*?::(\\d+)-[4-8]-\\d'\n",
    "with open('1_16.txt', 'r') as f:\n",
    "    for data in f.readlines():\n",
    "        m = re.search(patt, data)\n",
    "#         print(m.group(2))\n",
    "#         print(m.group(1))\n",
    "#         print(ctime(int(m.group(2))))\n",
    "        if ctime(int(m.group(2))) == m.group(1):\n",
    "            pass\n",
    "        else:\n",
    "            m = False\n"
   ]
  },
  {
   "cell_type": "code",
   "execution_count": 20,
   "metadata": {},
   "outputs": [
    {
     "name": "stdout",
     "output_type": "stream",
     "text": [
      "Sat Jan 10 11:41:56 1970\n",
      "Sun Jan  4 19:30:16 1970\n",
      "Sat Jan  3 11:25:16 1970\n",
      "Mon Jan  5 09:06:49 1970\n",
      "Tue Jan  6 10:02:12 1970\n",
      "Tue Jan  6 14:59:44 1970\n",
      "Mon Jan  5 15:41:20 1970\n",
      "Wed Jan  7 04:45:00 1970\n",
      "Thu Jan  1 12:21:57 1970\n",
      "Fri Jan  9 10:25:15 1970\n"
     ]
    }
   ],
   "source": [
    "#1-19\n",
    "\n",
    "with open('1_16.txt', 'r') as f:\n",
    "    for data in f.readlines():\n",
    "        m = re.search(r'[A-Za-z]{3}\\s[A-Za-z]{3}\\s+\\d+\\s\\d{2}:\\d{2}:\\d{2}\\s\\d+',data)\n",
    "        print(m.group())"
   ]
  },
  {
   "cell_type": "code",
   "execution_count": 21,
   "metadata": {},
   "outputs": [
    {
     "name": "stdout",
     "output_type": "stream",
     "text": [
      "xgajlw@qiragizykvy.edu\n",
      "cnsqlhr@owdzivx.org\n",
      "wlkyvqw@ypglyxnt.org\n",
      "gorbvd@tuodobsotle.com\n",
      "dpejit@cqxhaq.edu\n",
      "csarusw@xjdyvgixhr.net\n",
      "znwqm@zqeeecltq.gov\n",
      "rqpplrq@nqepvsklwfm.net\n",
      "owet@onscojeaiuo.com\n",
      "ribkdl@vjghgp.org\n"
     ]
    }
   ],
   "source": [
    "#1-20\n",
    "\n",
    "with open('1_16.txt', 'r') as f:\n",
    "    for data in f.readlines():\n",
    "        m = re.search(r'[A-Za-z]+@[A-Za-z]+\\.(com|edu|org|net|gov)',data)\n",
    "        print(m.group())"
   ]
  },
  {
   "cell_type": "code",
   "execution_count": 26,
   "metadata": {},
   "outputs": [
    {
     "name": "stdout",
     "output_type": "stream",
     "text": [
      "Jan\n",
      "Jan\n",
      "Jan\n",
      "Jan\n",
      "Jan\n",
      "Jan\n",
      "Jan\n",
      "Jan\n",
      "Jan\n",
      "Jan\n"
     ]
    }
   ],
   "source": [
    "#1-21\n",
    "\n",
    "with open('1_16.txt', 'r') as f:\n",
    "    for data in f.readlines():\n",
    "        m = re.search(r'[A-Za-z]{3}\\s([A-Za-z]{3})\\s+\\d+\\s\\d{2}:\\d{2}:\\d{2}\\s\\d+',data)\n",
    "        print(m.group(1))"
   ]
  },
  {
   "cell_type": "code",
   "execution_count": 27,
   "metadata": {},
   "outputs": [
    {
     "name": "stdout",
     "output_type": "stream",
     "text": [
      "1970\n",
      "1970\n",
      "1970\n",
      "1970\n",
      "1970\n",
      "1970\n",
      "1970\n",
      "1970\n",
      "1970\n",
      "1970\n"
     ]
    }
   ],
   "source": [
    "#1-22\n",
    "\n",
    "with open('1_16.txt', 'r') as f:\n",
    "    for data in f.readlines():\n",
    "        m = re.search(r'[A-Za-z]{3}\\s[A-Za-z]{3}\\s+\\d+\\s\\d{2}:\\d{2}:\\d{2}\\s(\\d+)',data)\n",
    "        print(m.group(1))"
   ]
  },
  {
   "cell_type": "code",
   "execution_count": 28,
   "metadata": {},
   "outputs": [
    {
     "name": "stdout",
     "output_type": "stream",
     "text": [
      "11:41:56\n",
      "19:30:16\n",
      "11:25:16\n",
      "09:06:49\n",
      "10:02:12\n",
      "14:59:44\n",
      "15:41:20\n",
      "04:45:00\n",
      "12:21:57\n",
      "10:25:15\n"
     ]
    }
   ],
   "source": [
    "#1-23\n",
    "\n",
    "with open('1_16.txt', 'r') as f:\n",
    "    for data in f.readlines():\n",
    "        m = re.search(r'[A-Za-z]{3}\\s[A-Za-z]{3}\\s+\\d+\\s(\\d{2}:\\d{2}:\\d{2})\\s\\d+',data)\n",
    "        print(m.group(1))"
   ]
  },
  {
   "cell_type": "code",
   "execution_count": 31,
   "metadata": {},
   "outputs": [
    {
     "name": "stdout",
     "output_type": "stream",
     "text": [
      "qiragizykvy.edu\n",
      "owdzivx.org\n",
      "ypglyxnt.org\n",
      "tuodobsotle.com\n",
      "cqxhaq.edu\n",
      "xjdyvgixhr.net\n",
      "zqeeecltq.gov\n",
      "nqepvsklwfm.net\n",
      "onscojeaiuo.com\n",
      "vjghgp.org\n"
     ]
    }
   ],
   "source": [
    "#1-24 25\n",
    "\n",
    "with open('1_16.txt', 'r') as f:\n",
    "    for data in f.readlines():\n",
    "        m = re.search(r'([A-Za-z]+)@([A-Za-z]+\\.(com|edu|org|net|gov))',data)\n",
    "        print(m.group(2))"
   ]
  },
  {
   "cell_type": "code",
   "execution_count": 33,
   "metadata": {},
   "outputs": [
    {
     "name": "stdout",
     "output_type": "stream",
     "text": [
      "Sat Jan 10 11:41:56 1970::1404056823@qq.com::790916-6-11\n",
      "\n",
      "Sun Jan  4 19:30:16 1970::1404056823@qq.com::300616-7-7\n",
      "\n",
      "Sat Jan  3 11:25:16 1970::1404056823@qq.com::185116-7-8\n",
      "\n",
      "Mon Jan  5 09:06:49 1970::1404056823@qq.com::349609-6-11\n",
      "\n",
      "Tue Jan  6 10:02:12 1970::1404056823@qq.com::439332-6-6\n",
      "\n",
      "Tue Jan  6 14:59:44 1970::1404056823@qq.com::457184-7-10\n",
      "\n",
      "Mon Jan  5 15:41:20 1970::1404056823@qq.com::373280-5-9\n",
      "\n",
      "Wed Jan  7 04:45:00 1970::1404056823@qq.com::506700-7-11\n",
      "\n",
      "Thu Jan  1 12:21:57 1970::1404056823@qq.com::15717-4-11\n",
      "\n",
      "Fri Jan  9 10:25:15 1970::1404056823@qq.com::699915-6-6\n",
      "\n"
     ]
    }
   ],
   "source": [
    "# 1-26\n",
    "\n",
    "with open('1_16.txt','r') as f:\n",
    "    for data in f.readlines():\n",
    "        m = re.sub(r'[A-Za-z]+@[A-Za-z]+\\.(com|edu|org|net|gov)', '1404056823@qq.com', data)\n",
    "        print(m)"
   ]
  },
  {
   "cell_type": "code",
   "execution_count": 39,
   "metadata": {},
   "outputs": [
    {
     "name": "stdout",
     "output_type": "stream",
     "text": [
      "Jan, 10, 1970\n",
      "Jan, 4, 1970\n",
      "Jan, 3, 1970\n",
      "Jan, 5, 1970\n",
      "Jan, 6, 1970\n",
      "Jan, 6, 1970\n",
      "Jan, 5, 1970\n",
      "Jan, 7, 1970\n",
      "Jan, 1, 1970\n",
      "Jan, 9, 1970\n"
     ]
    }
   ],
   "source": [
    "# 1-27\n",
    "\n",
    "with open('1_16.txt','r') as f:\n",
    "    for data in f.readlines():\n",
    "        m = re.search(r'\\b([A-Za-z]{3})\\s+(\\d+) .{8} (\\d+)::', data)\n",
    "        print('%s, %s, %s' % (m.group(1), m.group(2), m.group(3)))"
   ]
  },
  {
   "cell_type": "code",
   "execution_count": 42,
   "metadata": {},
   "outputs": [
    {
     "name": "stdout",
     "output_type": "stream",
     "text": [
      "800-555-1212\n"
     ]
    }
   ],
   "source": [
    "#1-28\n",
    "\n",
    "patt = r'(\\d{3}-)?\\d{3}-\\d{4}'\n",
    "data = '800-555-1212'\n",
    "#data = '555-1212'\n",
    "m = re.match(patt, data)\n",
    "if m is not None:\n",
    "    print(m.group())"
   ]
  },
  {
   "cell_type": "code",
   "execution_count": 44,
   "metadata": {},
   "outputs": [
    {
     "name": "stdout",
     "output_type": "stream",
     "text": [
      "800-555-1212\n"
     ]
    }
   ],
   "source": [
    "#1-29\n",
    "\n",
    "patt = r'((\\d{3}-)?|(\\(\\d{3}\\)\\s))?\\d{3}-\\d{4}'\n",
    "data = '800-555-1212'\n",
    "#data = '555-1212'\n",
    "#data = '(800) 555-1212'\n",
    "m = re.match(patt, data)\n",
    "if m is not None:\n",
    "    print(m.group())"
   ]
  },
  {
   "cell_type": "code",
   "execution_count": 45,
   "metadata": {},
   "outputs": [],
   "source": [
    "# 1-31\n",
    "\n",
    "tweet = 'RT JackMan #123456789..##22#..'\n",
    "\n",
    "def getTweet(tweet,flag=False):\n",
    "    patt = r'(RT|\\.|#)'\n",
    "    m = re.sub(patt, '', tweet)\n",
    "    # if flag:\n",
    "\n",
    "getTweet(tweet)"
   ]
  },
  {
   "cell_type": "code",
   "execution_count": null,
   "metadata": {},
   "outputs": [],
   "source": []
  }
 ],
 "metadata": {
  "kernelspec": {
   "display_name": "Python 3",
   "language": "python",
   "name": "python3"
  },
  "language_info": {
   "codemirror_mode": {
    "name": "ipython",
    "version": 3
   },
   "file_extension": ".py",
   "mimetype": "text/x-python",
   "name": "python",
   "nbconvert_exporter": "python",
   "pygments_lexer": "ipython3",
   "version": "3.7.6"
  }
 },
 "nbformat": 4,
 "nbformat_minor": 4
}
